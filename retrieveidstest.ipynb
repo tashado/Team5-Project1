{
 "cells": [
  {
   "cell_type": "code",
   "execution_count": 25,
   "id": "e924f321-98f3-4e28-994d-78c49efdc362",
   "metadata": {},
   "outputs": [],
   "source": [
    "import requests"
   ]
  },
  {
   "cell_type": "code",
   "execution_count": 26,
   "id": "5a66fe5b-4dbb-4750-afb2-90159afc5105",
   "metadata": {},
   "outputs": [],
   "source": [
    "def get_country_top_tracks_playlists(country_code, access_token):\n",
    "    playlists_url =  f\"https://api.spotify.com/v1/browse/categories/toplists/playlists?country={country_code}&limit=10\"\n",
    "\n",
    "    headers = {\n",
    "        'Authorization': 'Bearer {token}'.format(token=access_token)\n",
    "    }\n",
    "    response = requests.get(playlists_url, headers=headers)\n",
    "    data = response.json()\n",
    "    return data['playlists']['items']"
   ]
  },
  {
   "cell_type": "code",
   "execution_count": 27,
   "id": "dd380cb3-a097-445b-ae5e-a93532e52aea",
   "metadata": {},
   "outputs": [],
   "source": [
    "def get_access_token(client_id, client_secret):\n",
    "    auth_url = \"https://accounts.spotify.com/api/token\"\n",
    "    auth_response = requests.post(auth_url, {\n",
    "        'grant_type': 'client_credentials',\n",
    "        'client_id': client_id,\n",
    "        'client_secret': client_secret,\n",
    "    })\n",
    "    auth_response_data = auth_response.json()\n",
    "    access_token = auth_response_data['access_token']\n",
    "    return access_token\n"
   ]
  },
  {
   "cell_type": "code",
   "execution_count": 28,
   "id": "509373ac-6a0b-4732-9100-5de9edeb1264",
   "metadata": {},
   "outputs": [],
   "source": [
    "countries = {\n",
    "    'AD': 'Andorra',\n",
    "    'AE': 'United Arab Emirates',\n",
    "    'AR': 'Argentina',\n",
    "   \n",
    "}"
   ]
  },
  {
   "cell_type": "code",
   "execution_count": 29,
   "id": "1dd6e1ab-9776-4276-9132-96c18808377b",
   "metadata": {},
   "outputs": [],
   "source": [
    "client_id = '253c1072397848feab42291a86e760ab'\n",
    "client_secret = '06a6e93ddbc04588a596edeb071acf83'"
   ]
  },
  {
   "cell_type": "code",
   "execution_count": 30,
   "id": "9c025fa9-34ba-4863-927e-db13f5bf61c8",
   "metadata": {},
   "outputs": [],
   "source": [
    "access_token = get_access_token(client_id, client_secret)"
   ]
  },
  {
   "cell_type": "code",
   "execution_count": 31,
   "id": "636ee071-e590-4ae6-9c9d-a2253458058d",
   "metadata": {},
   "outputs": [
    {
     "ename": "NameError",
     "evalue": "name 'get_country_top_playlists' is not defined",
     "output_type": "error",
     "traceback": [
      "\u001b[1;31m---------------------------------------------------------------------------\u001b[0m",
      "\u001b[1;31mNameError\u001b[0m                                 Traceback (most recent call last)",
      "Cell \u001b[1;32mIn[31], line 2\u001b[0m\n\u001b[0;32m      1\u001b[0m \u001b[38;5;28;01mfor\u001b[39;00m country_code, country_name \u001b[38;5;129;01min\u001b[39;00m countries\u001b[38;5;241m.\u001b[39mitems():\n\u001b[1;32m----> 2\u001b[0m     tracks \u001b[38;5;241m=\u001b[39m \u001b[43mget_country_top_playlists\u001b[49m(country_code, access_token)\n\u001b[0;32m      3\u001b[0m     \u001b[38;5;28;01mif\u001b[39;00m tracks:\n\u001b[0;32m      4\u001b[0m         \u001b[38;5;28mprint\u001b[39m(\u001b[38;5;124mf\u001b[39m\u001b[38;5;124m\"\u001b[39m\u001b[38;5;124mCountry: \u001b[39m\u001b[38;5;132;01m{\u001b[39;00mcountry_name\u001b[38;5;132;01m}\u001b[39;00m\u001b[38;5;124m\"\u001b[39m)\n",
      "\u001b[1;31mNameError\u001b[0m: name 'get_country_top_playlists' is not defined"
     ]
    }
   ],
   "source": [
    "for country_code, country_name in countries.items():\n",
    "    tracks = get_country_top_playlists(country_code, access_token)\n",
    "    if tracks:\n",
    "        print(f\"Country: {country_name}\")\n",
    "        for track in tracks:\n",
    "            print(f\"Track Name: {track['name']}, Artists: {', '.join([artist['name'] for artist in track['artists']])}\")"
   ]
  },
  {
   "cell_type": "code",
   "execution_count": null,
   "id": "6ad7cf29-2649-44da-9c06-0d5a3908c45b",
   "metadata": {},
   "outputs": [],
   "source": []
  }
 ],
 "metadata": {
  "kernelspec": {
   "display_name": "Python 3 (ipykernel)",
   "language": "python",
   "name": "python3"
  },
  "language_info": {
   "codemirror_mode": {
    "name": "ipython",
    "version": 3
   },
   "file_extension": ".py",
   "mimetype": "text/x-python",
   "name": "python",
   "nbconvert_exporter": "python",
   "pygments_lexer": "ipython3",
   "version": "3.11.7"
  }
 },
 "nbformat": 4,
 "nbformat_minor": 5
}
