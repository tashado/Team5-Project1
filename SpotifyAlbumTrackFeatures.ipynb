{
 "cells": [
  {
   "cell_type": "code",
   "execution_count": 1,
   "id": "d82a846c-24ea-49e3-84c7-32cd736c6663",
   "metadata": {},
   "outputs": [
    {
     "name": "stdout",
     "output_type": "stream",
     "text": [
      "BQBcAfb1V0zn6M7ycy-dem74hHATheek_adVQRxQ_iYGTZvRYRlQFKBYHTdUwFZMZQwP4zAIry8jDuGq5ROUnQwdCPWn-v1TO9pm1_XanLlO7TZ3AXA\n"
     ]
    },
    {
     "data": {
      "text/plain": [
       "[{'name': 'Global Warming (feat. Sensato)',\n",
       "  'id': '6OmhkSOpvYBokMKQxpIGx2',\n",
       "  'duration_ms': 85400,\n",
       "  'explicit': True},\n",
       " {'name': \"Don't Stop the Party (feat. TJR)\",\n",
       "  'id': '2iblMMIgSznA464mNov7A8',\n",
       "  'duration_ms': 206120,\n",
       "  'explicit': False},\n",
       " {'name': 'Feel This Moment (feat. Christina Aguilera)',\n",
       "  'id': '4yOn1TEcfsKHUJCL2h1r8I',\n",
       "  'duration_ms': 229506,\n",
       "  'explicit': False},\n",
       " {'name': 'Back in Time - featured in \"Men In Black 3\"',\n",
       "  'id': '7fmpKF0rLGPnP7kcQ5ZMm7',\n",
       "  'duration_ms': 207440,\n",
       "  'explicit': False},\n",
       " {'name': 'Hope We Meet Again (feat. Chris Brown)',\n",
       "  'id': '3jStb2imKd6oUoBT1zq5lp',\n",
       "  'duration_ms': 221133,\n",
       "  'explicit': False},\n",
       " {'name': \"Party Ain't Over (feat. Usher & Afrojack)\",\n",
       "  'id': '6Q4PYJtrq8CBx7YCY5IyRN',\n",
       "  'duration_ms': 243160,\n",
       "  'explicit': True},\n",
       " {'name': 'Drinks for You (Ladies Anthem) (feat. J. Lo)',\n",
       "  'id': '0QTVwqcOsYd73AOkYkk0Hg',\n",
       "  'duration_ms': 196920,\n",
       "  'explicit': False},\n",
       " {'name': 'Have Some Fun (feat. The Wanted & Afrojack)',\n",
       "  'id': '10Sydb6AAFPdgCzCKOSZuI',\n",
       "  'duration_ms': 244920,\n",
       "  'explicit': False},\n",
       " {'name': 'Outta Nowhere (feat. Danny Mercer)',\n",
       "  'id': '4k61iDqmtX9nI7RfLmp9aq',\n",
       "  'duration_ms': 206800,\n",
       "  'explicit': True},\n",
       " {'name': 'Tchu Tchu Tcha (feat. Enrique Iglesias)',\n",
       "  'id': '7oGRkL31ElVMcevQDceT99',\n",
       "  'duration_ms': 205800,\n",
       "  'explicit': False},\n",
       " {'name': 'Last Night (feat. Afrojack & Havana Brown)',\n",
       "  'id': '60xPqMqnHZl7Jfiu6E9q8X',\n",
       "  'duration_ms': 219600,\n",
       "  'explicit': True},\n",
       " {'name': \"I'm Off That\",\n",
       "  'id': '1jAdXqOSICyXYLaW9ioSur',\n",
       "  'duration_ms': 197520,\n",
       "  'explicit': True},\n",
       " {'name': \"Echa Pa'lla (Manos Pa'rriba) (feat. Papayo)\",\n",
       "  'id': '0fjRYHFz9ealui1lfnN8it',\n",
       "  'duration_ms': 196440,\n",
       "  'explicit': False},\n",
       " {'name': 'Everybody Fucks (feat. Akon & David Rush)',\n",
       "  'id': '7of35ktwTbL906Z1i3mT4K',\n",
       "  'duration_ms': 257613,\n",
       "  'explicit': True},\n",
       " {'name': 'Get It Started (feat. Shakira)',\n",
       "  'id': '2JA6A6Y5f4m7PawM58U2Op',\n",
       "  'duration_ms': 245920,\n",
       "  'explicit': False},\n",
       " {'name': '11:59 (feat. Vein)',\n",
       "  'id': '726qZxwhP0jVyIA0ujnnhb',\n",
       "  'duration_ms': 217680,\n",
       "  'explicit': True},\n",
       " {'name': 'Rain Over Me (feat. Marc Anthony) - Benny Benassi Remix',\n",
       "  'id': '6GPER1Sx8MrBiwWxdulg5Q',\n",
       "  'duration_ms': 316480,\n",
       "  'explicit': False},\n",
       " {'name': 'International Love (feat. Chris Brown) - Jump Smokers Extended Mix',\n",
       "  'id': '4TWgcICXXfGty8MHGWJ4Ne',\n",
       "  'duration_ms': 309626,\n",
       "  'explicit': False}]"
      ]
     },
     "execution_count": 1,
     "metadata": {},
     "output_type": "execute_result"
    }
   ],
   "source": [
    "import requests\n",
    "from accesstoken import access_token \n",
    "import pandas as pd\n",
    "import numpy as np\n",
    "import matplotlib.pyplot as plt\n",
    "from scipy.stats import pearsonr\n",
    "\n",
    "# Spotify API credentials\n",
    "client_id = 'your_client_id'\n",
    "client_secret = 'your_client_secret'\n",
    "\n",
    "print(access_token)\n",
    "def get_album_tracks(album_id, access_token):\n",
    "    url = f'https://api.spotify.com/v1/albums/{album_id}/tracks'\n",
    "    headers = {'Authorization': 'Bearer ' + access_token}\n",
    "    response = requests.get(url, headers=headers)\n",
    "    tracks = response.json()['items']\n",
    "    track_data = []\n",
    "    for track in tracks:\n",
    "        track_data.append({\n",
    "            'name': track['name'],\n",
    "            'id': track['id'],\n",
    "            'duration_ms': track['duration_ms'],\n",
    "            'explicit': track['explicit']\n",
    "        })\n",
    "    return track_data\n",
    "\n",
    "album_id = '4aawyAB9vmqN3uQ7FjRGTy'\n",
    "album_tracks = get_album_tracks(album_id, access_token)\n",
    "album_tracks\n"
   ]
  },
  {
   "cell_type": "code",
   "execution_count": null,
   "id": "61320037-d68b-4761-95a6-8cfb63d56f31",
   "metadata": {},
   "outputs": [],
   "source": []
  },
  {
   "cell_type": "code",
   "execution_count": null,
   "id": "18e76e2a-ad61-42c0-962d-0727ff6b2625",
   "metadata": {},
   "outputs": [],
   "source": []
  }
 ],
 "metadata": {
  "kernelspec": {
   "display_name": "Python 3 (ipykernel)",
   "language": "python",
   "name": "python3"
  },
  "language_info": {
   "codemirror_mode": {
    "name": "ipython",
    "version": 3
   },
   "file_extension": ".py",
   "mimetype": "text/x-python",
   "name": "python",
   "nbconvert_exporter": "python",
   "pygments_lexer": "ipython3",
   "version": "3.11.7"
  }
 },
 "nbformat": 4,
 "nbformat_minor": 5
}
